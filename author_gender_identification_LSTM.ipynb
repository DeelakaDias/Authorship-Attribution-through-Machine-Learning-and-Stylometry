{
  "cells": [
    {
      "cell_type": "code",
      "execution_count": 16,
      "metadata": {
        "id": "UKsBokAevSrv"
      },
      "outputs": [],
      "source": [
        "import pandas as pd\n",
        "import numpy as np\n",
        "from sklearn.model_selection import train_test_split\n",
        "from sklearn.preprocessing import LabelEncoder\n",
        "from keras.preprocessing.text import Tokenizer\n",
        "from keras.preprocessing.sequence import pad_sequences\n",
        "from keras.models import Sequential\n",
        "from keras.layers import Embedding, LSTM, Dense\n",
        "import pickle"
      ]
    },
    {
      "cell_type": "code",
      "execution_count": 17,
      "metadata": {
        "colab": {
          "base_uri": "https://localhost:8080/"
        },
        "id": "3AwG_ioIvjrN",
        "outputId": "3234c83e-2bf7-45c3-970e-361630902915"
      },
      "outputs": [
        {
          "name": "stdout",
          "output_type": "stream",
          "text": [
            "Total number of messages in the dataset: 534460\n"
          ]
        }
      ],
      "source": [
        "file_path = 'yelp_test_binary.txt'\n",
        "\n",
        "# read data \n",
        "df = pd.read_csv(file_path, sep='\\t', header=None, names=['Message', 'Gender', 'Confidence'])\n",
        "\n",
        "# the number of rows\n",
        "num_messages = df.shape[0]\n",
        "print(f'Total number of messages in the dataset: {num_messages}')"
      ]
    },
    {
      "cell_type": "code",
      "execution_count": 18,
      "metadata": {
        "colab": {
          "base_uri": "https://localhost:8080/",
          "height": 206
        },
        "id": "aHVANqVQv0mE",
        "outputId": "81ea0322-d8c0-405a-f03f-b9f81351dcba"
      },
      "outputs": [
        {
          "data": {
            "text/html": [
              "<div>\n",
              "<style scoped>\n",
              "    .dataframe tbody tr th:only-of-type {\n",
              "        vertical-align: middle;\n",
              "    }\n",
              "\n",
              "    .dataframe tbody tr th {\n",
              "        vertical-align: top;\n",
              "    }\n",
              "\n",
              "    .dataframe thead th {\n",
              "        text-align: right;\n",
              "    }\n",
              "</style>\n",
              "<table border=\"1\" class=\"dataframe\">\n",
              "  <thead>\n",
              "    <tr style=\"text-align: right;\">\n",
              "      <th></th>\n",
              "      <th>Message</th>\n",
              "      <th>Gender</th>\n",
              "      <th>Confidence</th>\n",
              "    </tr>\n",
              "  </thead>\n",
              "  <tbody>\n",
              "    <tr>\n",
              "      <th>0</th>\n",
              "      <td>i will never order flowers through cactus flow...</td>\n",
              "      <td>ABOUT:female</td>\n",
              "      <td>0.6285</td>\n",
              "    </tr>\n",
              "    <tr>\n",
              "      <th>1</th>\n",
              "      <td>ok but not special .</td>\n",
              "      <td>ABOUT:male</td>\n",
              "      <td>0.5086</td>\n",
              "    </tr>\n",
              "    <tr>\n",
              "      <th>2</th>\n",
              "      <td>where to even start ?</td>\n",
              "      <td>ABOUT:male</td>\n",
              "      <td>0.5796</td>\n",
              "    </tr>\n",
              "    <tr>\n",
              "      <th>3</th>\n",
              "      <td>my wife ordered the tenderloin sliders .</td>\n",
              "      <td>ABOUT:female</td>\n",
              "      <td>0.5699</td>\n",
              "    </tr>\n",
              "    <tr>\n",
              "      <th>4</th>\n",
              "      <td>all so intelligent , pleasant and honest .</td>\n",
              "      <td>ABOUT:female</td>\n",
              "      <td>0.5788</td>\n",
              "    </tr>\n",
              "  </tbody>\n",
              "</table>\n",
              "</div>"
            ],
            "text/plain": [
              "                                             Message        Gender  Confidence\n",
              "0  i will never order flowers through cactus flow...  ABOUT:female      0.6285\n",
              "1                               ok but not special .    ABOUT:male      0.5086\n",
              "2                              where to even start ?    ABOUT:male      0.5796\n",
              "3           my wife ordered the tenderloin sliders .  ABOUT:female      0.5699\n",
              "4         all so intelligent , pleasant and honest .  ABOUT:female      0.5788"
            ]
          },
          "execution_count": 18,
          "metadata": {},
          "output_type": "execute_result"
        }
      ],
      "source": [
        "df.head()"
      ]
    },
    {
      "cell_type": "code",
      "execution_count": 19,
      "metadata": {
        "colab": {
          "base_uri": "https://localhost:8080/"
        },
        "id": "ZEEkGPkYwScy",
        "outputId": "3327b6b3-7ba5-4f39-ac9b-6f62e31967f4"
      },
      "outputs": [],
      "source": [
        "# preprocessing on text data\n",
        "df['Message'] = df['Message'].str.lower()\n",
        "df['Message'] = df['Message'].str.replace('[^\\w\\s]', '')"
      ]
    },
    {
      "cell_type": "code",
      "execution_count": 20,
      "metadata": {
        "id": "UpLWgSr5wVWu"
      },
      "outputs": [],
      "source": [
        "# Encode the 'Gender' labels\n",
        "label_encoder = LabelEncoder()\n",
        "df['Gender'] = label_encoder.fit_transform(df['Gender'])\n",
        "\n",
        "# Tokenize and pad sequences\n",
        "max_words = 1000  # can djust \n",
        "tokenizer = Tokenizer(num_words=max_words, split=' ')\n",
        "tokenizer.fit_on_texts(df['Message'].values)\n",
        "X = tokenizer.texts_to_sequences(df['Message'].values)\n",
        "X = pad_sequences(X)"
      ]
    },
    {
      "cell_type": "code",
      "execution_count": 21,
      "metadata": {
        "id": "ITesgpV-wfdG"
      },
      "outputs": [],
      "source": [
        "# target variable\n",
        "y = df['Gender']\n",
        "\n",
        "#  training and testing sets\n",
        "X_train, X_test, y_train, y_test = train_test_split(X, y, test_size=0.2, random_state=42)\n"
      ]
    },
    {
      "cell_type": "code",
      "execution_count": 22,
      "metadata": {
        "id": "uFuatnxUwiT6"
      },
      "outputs": [],
      "source": [
        "# Build the LSTM model\n",
        "embedding_dim = 50 \n",
        "model = Sequential()\n",
        "model.add(Embedding(max_words, embedding_dim, input_length=X.shape[1]))\n",
        "model.add(LSTM(100))\n",
        "model.add(Dense(1, activation='sigmoid'))\n",
        "model.compile(loss='binary_crossentropy', optimizer='adam', metrics=['accuracy'])\n"
      ]
    },
    {
      "cell_type": "code",
      "execution_count": 23,
      "metadata": {
        "colab": {
          "base_uri": "https://localhost:8080/"
        },
        "id": "VhgmDObMwlti",
        "outputId": "3120249b-a611-4a1c-ae78-05c2ae375422"
      },
      "outputs": [
        {
          "name": "stdout",
          "output_type": "stream",
          "text": [
            "Epoch 1/5\n",
            "WARNING:tensorflow:From c:\\Users\\benur\\AppData\\Local\\Programs\\Python\\Python311\\Lib\\site-packages\\keras\\src\\utils\\tf_utils.py:492: The name tf.ragged.RaggedTensorValue is deprecated. Please use tf.compat.v1.ragged.RaggedTensorValue instead.\n",
            "\n",
            "WARNING:tensorflow:From c:\\Users\\benur\\AppData\\Local\\Programs\\Python\\Python311\\Lib\\site-packages\\keras\\src\\engine\\base_layer_utils.py:384: The name tf.executing_eagerly_outside_functions is deprecated. Please use tf.compat.v1.executing_eagerly_outside_functions instead.\n",
            "\n",
            "6681/6681 [==============================] - 349s 52ms/step - loss: 0.4745 - accuracy: 0.7730 - val_loss: 0.4511 - val_accuracy: 0.7871\n",
            "Epoch 2/5\n",
            "6681/6681 [==============================] - 326s 49ms/step - loss: 0.4458 - accuracy: 0.7906 - val_loss: 0.4419 - val_accuracy: 0.7930\n",
            "Epoch 3/5\n",
            "6681/6681 [==============================] - 333s 50ms/step - loss: 0.4367 - accuracy: 0.7947 - val_loss: 0.4373 - val_accuracy: 0.7944\n",
            "Epoch 4/5\n",
            "6681/6681 [==============================] - 364s 54ms/step - loss: 0.4292 - accuracy: 0.7992 - val_loss: 0.4361 - val_accuracy: 0.7952\n",
            "Epoch 5/5\n",
            "6681/6681 [==============================] - 370s 55ms/step - loss: 0.4223 - accuracy: 0.8026 - val_loss: 0.4334 - val_accuracy: 0.7969\n"
          ]
        }
      ],
      "source": [
        "# Train the model\n",
        "trained_model = model.fit(X_train, y_train, epochs=5, batch_size=64, validation_data=(X_test, y_test))\n"
      ]
    },
    {
      "cell_type": "code",
      "execution_count": 24,
      "metadata": {},
      "outputs": [
        {
          "name": "stderr",
          "output_type": "stream",
          "text": [
            "c:\\Users\\benur\\AppData\\Local\\Programs\\Python\\Python311\\Lib\\site-packages\\keras\\src\\engine\\training.py:3103: UserWarning: You are saving your model as an HDF5 file via `model.save()`. This file format is considered legacy. We recommend using instead the native Keras format, e.g. `model.save('my_model.keras')`.\n",
            "  saving_api.save_model(\n"
          ]
        }
      ],
      "source": [
        "# Save model architecture and weights\n",
        "model.save(\"lstm_trained_model.h5\")"
      ]
    },
    {
      "cell_type": "code",
      "execution_count": 25,
      "metadata": {},
      "outputs": [],
      "source": [
        "# Save tokenizer\n",
        "with open(\"lstm_tokenizer.pickle\", \"wb\") as handle:\n",
        "    pickle.dump(tokenizer, handle, protocol=pickle.HIGHEST_PROTOCOL)"
      ]
    },
    {
      "cell_type": "code",
      "execution_count": 26,
      "metadata": {},
      "outputs": [],
      "source": [
        "# Save label encoder\n",
        "with open(\"lstm_label_encoder.pickle\", \"wb\") as handle:\n",
        "    pickle.dump(label_encoder, handle, protocol=pickle.HIGHEST_PROTOCOL)"
      ]
    },
    {
      "cell_type": "code",
      "execution_count": 32,
      "metadata": {},
      "outputs": [],
      "source": [
        "# Save max_length\n",
        "with open(\"max_length_lstm.pickle\", \"w\") as file:\n",
        "    file.write(str(X.shape[1]))"
      ]
    },
    {
      "cell_type": "code",
      "execution_count": 35,
      "metadata": {},
      "outputs": [],
      "source": [
        "# Save max length\n",
        "with open(\"max_length.pickle\", \"wb\") as handle:\n",
        "    pickle.dump(max_length, handle, protocol=pickle.HIGHEST_PROTOCOL)"
      ]
    },
    {
      "cell_type": "code",
      "execution_count": 27,
      "metadata": {
        "id": "779gKx8Iwnum"
      },
      "outputs": [
        {
          "name": "stdout",
          "output_type": "stream",
          "text": [
            "3341/3341 [==============================] - 46s 14ms/step - loss: 0.4334 - accuracy: 0.7969\n",
            "Accuracy: 0.7969071865081787\n"
          ]
        }
      ],
      "source": [
        "# Evaluate the model\n",
        "loss, accuracy = model.evaluate(X_test, y_test)\n",
        "print(f'Accuracy: {accuracy}')"
      ]
    },
    {
      "cell_type": "code",
      "execution_count": 42,
      "metadata": {
        "id": "3sT3Lw9owpx8"
      },
      "outputs": [
        {
          "name": "stdout",
          "output_type": "stream",
          "text": [
            "1/1 [==============================] - 0s 20ms/step\n",
            "Predicted Gender: ABOUT:male\n"
          ]
        },
        {
          "ename": "",
          "evalue": "",
          "output_type": "error",
          "traceback": [
            "\u001b[1;31mThe Kernel crashed while executing code in the current cell or a previous cell. \n",
            "\u001b[1;31mPlease review the code in the cell(s) to identify a possible cause of the failure. \n",
            "\u001b[1;31mClick <a href='https://aka.ms/vscodeJupyterKernelCrash'>here</a> for more info. \n",
            "\u001b[1;31mView Jupyter <a href='command:jupyter.viewOutput'>log</a> for further details."
          ]
        }
      ],
      "source": [
        "# Example\n",
        "new_data = ['''''']\n",
        "new_data_sequence = tokenizer.texts_to_sequences(new_data)\n",
        "new_data_padded = pad_sequences(new_data_sequence, maxlen=X.shape[1])\n",
        "prediction = model.predict(new_data_padded)\n",
        "predicted_class = (prediction > 0.5).astype('int')[0][0]\n",
        "predicted_gender = label_encoder.classes_[predicted_class]\n",
        "print(f'Predicted Gender: {predicted_gender}')"
      ]
    },
    {
      "cell_type": "code",
      "execution_count": null,
      "metadata": {},
      "outputs": [],
      "source": []
    }
  ],
  "metadata": {
    "colab": {
      "provenance": []
    },
    "kernelspec": {
      "display_name": "Python 3",
      "name": "python3"
    },
    "language_info": {
      "codemirror_mode": {
        "name": "ipython",
        "version": 3
      },
      "file_extension": ".py",
      "mimetype": "text/x-python",
      "name": "python",
      "nbconvert_exporter": "python",
      "pygments_lexer": "ipython3",
      "version": "3.11.4"
    }
  },
  "nbformat": 4,
  "nbformat_minor": 0
}
