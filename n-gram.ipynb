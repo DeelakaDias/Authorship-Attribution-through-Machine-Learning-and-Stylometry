{
 "cells": [
  {
   "cell_type": "code",
   "execution_count": 2,
   "metadata": {},
   "outputs": [],
   "source": [
    "import numpy as np\n",
    "import json\n",
    "from nltk import ngrams"
   ]
  },
  {
   "cell_type": "code",
   "execution_count": 3,
   "metadata": {},
   "outputs": [],
   "source": [
    "sample_text = open(\"./samples/linus-torvalds/linux_1.json\").read()\n",
    "sample_text = json.loads(sample_text)\n",
    "paragraphs = [para[\"paragraph\"] for para in sample_text[\"text\"]]"
   ]
  },
  {
   "cell_type": "code",
   "execution_count": 4,
   "metadata": {},
   "outputs": [],
   "source": [
    "def get_sentences(paragraph):\n",
    "    return paragraph.split(\". \")"
   ]
  },
  {
   "cell_type": "code",
   "execution_count": 11,
   "metadata": {},
   "outputs": [],
   "source": [
    "sentences = []\n",
    "for para in paragraphs:\n",
    "    sentences += get_sentences(para)\n"
   ]
  },
  {
   "cell_type": "code",
   "execution_count": 13,
   "metadata": {},
   "outputs": [],
   "source": [
    "tokens = sentences[0].split(\" \")\n",
    "n = 2"
   ]
  },
  {
   "cell_type": "code",
   "execution_count": 14,
   "metadata": {},
   "outputs": [],
   "source": [
    "n_grams = ngrams(tokens, n)"
   ]
  },
  {
   "cell_type": "code",
   "execution_count": 17,
   "metadata": {},
   "outputs": [
    {
     "name": "stdout",
     "output_type": "stream",
     "text": [
      "[('And', 'the'), ('the', '*reality*'), ('*reality*', 'is'), ('is', 'that'), ('that', 'there'), ('there', 'are'), ('are', 'no'), ('no', 'absolute'), ('absolute', 'guarantees')]\n"
     ]
    }
   ],
   "source": [
    "print(list(n_grams))"
   ]
  }
 ],
 "metadata": {
  "kernelspec": {
   "display_name": "dsgp-env",
   "language": "python",
   "name": "python3"
  },
  "language_info": {
   "codemirror_mode": {
    "name": "ipython",
    "version": 3
   },
   "file_extension": ".py",
   "mimetype": "text/x-python",
   "name": "python",
   "nbconvert_exporter": "python",
   "pygments_lexer": "ipython3",
   "version": "3.11.6"
  }
 },
 "nbformat": 4,
 "nbformat_minor": 2
}
