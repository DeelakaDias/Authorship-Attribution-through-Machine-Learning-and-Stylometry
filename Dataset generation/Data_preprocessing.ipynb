{
 "cells": [
  {
   "cell_type": "code",
   "execution_count": 4,
   "metadata": {},
   "outputs": [
    {
     "name": "stdout",
     "output_type": "stream",
     "text": [
      "Duplicates removed from the CSV file with headers.\n"
     ]
    }
   ],
   "source": [
    "import csv\n",
    "\n",
    "def remove_duplicates(input_file, output_file):\n",
    "    # Set to store unique rows\n",
    "    unique_rows = set()\n",
    "    header = []\n",
    "\n",
    "    # Read input CSV file and collect unique rows\n",
    "    with open(input_file, 'r', newline='') as infile:\n",
    "        reader = csv.reader(infile)\n",
    "        header = next(reader)  # Read header\n",
    "        for row in reader:\n",
    "            # Convert row to tuple to make it hashable\n",
    "            row_tuple = tuple(row)\n",
    "            unique_rows.add(row_tuple)\n",
    "\n",
    "    # Write unique rows to output CSV file\n",
    "    with open(output_file, 'w', newline='') as outfile:\n",
    "        writer = csv.writer(outfile)\n",
    "        # Write header\n",
    "        writer.writerow(header)\n",
    "        for row_tuple in unique_rows:\n",
    "            writer.writerow(row_tuple)\n",
    "\n",
    "# Usage example\n",
    "remove_duplicates('dataset.csv', 'dataset_without_duplicates.csv')\n",
    "print(\"Duplicates removed from the CSV file with headers.\")\n",
    "\n"
   ]
  },
  {
   "cell_type": "code",
   "execution_count": 1,
   "metadata": {},
   "outputs": [],
   "source": [
    "from sklearn.model_selection import train_test_split\n",
    "from sklearn.ensemble import RandomForestClassifier\n",
    "import pandas as pd\n",
    "from sklearn.metrics import accuracy_score"
   ]
  },
  {
   "cell_type": "code",
   "execution_count": 2,
   "metadata": {},
   "outputs": [
    {
     "name": "stdout",
     "output_type": "stream",
     "text": [
      "Top lines of the DataFrame:\n",
      "   sentence_length  punctuation_1  punctuation_2  punctuation_3  \\\n",
      "0         0.792308              1       0.978723       0.932766   \n",
      "1         0.917347              1       1.000000       0.958418   \n",
      "2         0.951455              1       1.000000       0.991453   \n",
      "3         0.964899              1       1.000000       0.775000   \n",
      "4         0.948413              1       1.000000       1.000000   \n",
      "\n",
      "   punctuation_4  punctuation_5  punctuation_6  punctuation_7  punctuation_8  \\\n",
      "0              1            1.0            1.0       1.000000            1.0   \n",
      "1              1            1.0            1.0       1.000000            1.0   \n",
      "2              1            1.0            1.0       1.000000            1.0   \n",
      "3              1            1.0            1.0       1.000000            1.0   \n",
      "4              1            1.0            1.0       0.983333            1.0   \n",
      "\n",
      "   punctuation_9  ...  function_word_now  ngram_transition_num_nodes  \\\n",
      "0       1.000000  ...           0.980769                         0.0   \n",
      "1       1.000000  ...           1.000000                         0.0   \n",
      "2       0.944444  ...           0.975610                         0.0   \n",
      "3       1.000000  ...           0.933333                         0.0   \n",
      "4       0.983333  ...           0.954545                         0.0   \n",
      "\n",
      "   ngram_transition_num_edges  ngram_transition_avg_degree  \\\n",
      "0                         0.0                     0.972535   \n",
      "1                         0.0                     0.993227   \n",
      "2                         0.0                     0.977778   \n",
      "3                         0.0                     0.971890   \n",
      "4                         0.0                     0.963439   \n",
      "\n",
      "   ngram_transition_density  type_token_ratio  passive_to_active_ratio  \\\n",
      "0                  0.995702          0.773833                        1   \n",
      "1                  0.996614          0.917657                        1   \n",
      "2                  0.993567          0.985478                        1   \n",
      "3                  0.985945          0.835581                        1   \n",
      "4                  0.981719          0.789725                        1   \n",
      "\n",
      "   gender_prediction  double_spaces  Label  \n",
      "0                  1              1      0  \n",
      "1                  1              1      1  \n",
      "2                  1              1      1  \n",
      "3                  0              1      1  \n",
      "4                  1              1      1  \n",
      "\n",
      "[5 rows x 205 columns]\n",
      "\n",
      "Column names:\n",
      "Index(['sentence_length', 'punctuation_1', 'punctuation_2', 'punctuation_3',\n",
      "       'punctuation_4', 'punctuation_5', 'punctuation_6', 'punctuation_7',\n",
      "       'punctuation_8', 'punctuation_9',\n",
      "       ...\n",
      "       'function_word_now', 'ngram_transition_num_nodes',\n",
      "       'ngram_transition_num_edges', 'ngram_transition_avg_degree',\n",
      "       'ngram_transition_density', 'type_token_ratio',\n",
      "       'passive_to_active_ratio', 'gender_prediction', 'double_spaces',\n",
      "       'Label'],\n",
      "      dtype='object', length=205)\n"
     ]
    }
   ],
   "source": [
    "import pandas as pd\n",
    "\n",
    "# Load your dataset (replace 'data.csv' with your file path)\n",
    "data = pd.read_csv('dataset_without_duplicates.csv')\n",
    "\n",
    "# Display the first few rows of the DataFrame\n",
    "print(\"Top lines of the DataFrame:\")\n",
    "print(data.head())\n",
    "\n",
    "# Get the column names\n",
    "column_names = data.columns\n",
    "print(\"\\nColumn names:\")\n",
    "print(column_names)\n"
   ]
  },
  {
   "cell_type": "code",
   "execution_count": 3,
   "metadata": {},
   "outputs": [
    {
     "name": "stdout",
     "output_type": "stream",
     "text": [
      "Features with low variance:\n",
      "['punctuation_1', 'punctuation_2', 'punctuation_4', 'punctuation_5', 'punctuation_6', 'punctuation_7', 'punctuation_8', 'punctuation_9', 'punctuation_11', 'punctuation_12', 'punctuation_14', 'punctuation_15', 'punctuation_16', 'punctuation_17', 'punctuation_18', 'punctuation_19', 'punctuation_20', 'punctuation_21', 'punctuation_22', 'punctuation_24', 'punctuation_25', 'punctuation_26', 'punctuation_27', 'punctuation_28', 'punctuation_30', 'punctuation_31', 'pos_tag_CC', 'pos_tag_CD', 'pos_tag_DT', 'pos_tag_EX', 'pos_tag_FW', 'pos_tag_IN', 'pos_tag_JJ', 'pos_tag_JJR', 'pos_tag_JJS', 'pos_tag_LS', 'pos_tag_MD', 'pos_tag_NN', 'pos_tag_NNS', 'pos_tag_NNP', 'pos_tag_NNPS', 'pos_tag_PDT', 'pos_tag_POS', 'pos_tag_PRP', 'pos_tag_PRP$', 'pos_tag_RB', 'pos_tag_RBR', 'pos_tag_RBS', 'pos_tag_RP', 'pos_tag_SYM', 'pos_tag_TO', 'pos_tag_UH', 'pos_tag_VB', 'pos_tag_VBD', 'pos_tag_VBG', 'pos_tag_VBN', 'pos_tag_VBP', 'pos_tag_VBZ', 'pos_tag_WDT', 'pos_tag_WP', 'pos_tag_WP$', 'pos_tag_WRB', 'function_word_i', 'function_word_me', 'function_word_my', 'function_word_myself', 'function_word_we', 'function_word_our', 'function_word_ours', 'function_word_ourselves', 'function_word_you', 'function_word_your', 'function_word_yours', 'function_word_yourself', 'function_word_yourselves', 'function_word_he', 'function_word_him', 'function_word_his', 'function_word_himself', 'function_word_she', 'function_word_her', 'function_word_hers', 'function_word_herself', 'function_word_it', 'function_word_its', 'function_word_itself', 'function_word_they', 'function_word_them', 'function_word_their', 'function_word_theirs', 'function_word_themselves', 'function_word_what', 'function_word_which', 'function_word_who', 'function_word_whom', 'function_word_this', 'function_word_that', 'function_word_these', 'function_word_those', 'function_word_am', 'function_word_is', 'function_word_are', 'function_word_was', 'function_word_were', 'function_word_be', 'function_word_been', 'function_word_being', 'function_word_have', 'function_word_has', 'function_word_had', 'function_word_having', 'function_word_do', 'function_word_does', 'function_word_did', 'function_word_doing', 'function_word_a', 'function_word_an', 'function_word_the', 'function_word_and', 'function_word_but', 'function_word_if', 'function_word_or', 'function_word_because', 'function_word_as', 'function_word_until', 'function_word_while', 'function_word_of', 'function_word_at', 'function_word_by', 'function_word_for', 'function_word_with', 'function_word_about', 'function_word_against', 'function_word_between', 'function_word_into', 'function_word_through', 'function_word_during', 'function_word_before', 'function_word_after', 'function_word_above', 'function_word_below', 'function_word_to', 'function_word_from', 'function_word_up', 'function_word_down', 'function_word_in', 'function_word_out', 'function_word_on', 'function_word_off', 'function_word_over', 'function_word_under', 'function_word_again', 'function_word_further', 'function_word_then', 'function_word_once', 'function_word_here', 'function_word_there', 'function_word_when', 'function_word_where', 'function_word_why', 'function_word_how', 'function_word_all', 'function_word_any', 'function_word_both', 'function_word_each', 'function_word_few', 'function_word_more', 'function_word_most', 'function_word_other', 'function_word_some', 'function_word_such', 'function_word_no', 'function_word_nor', 'function_word_not', 'function_word_only', 'function_word_own', 'function_word_same', 'function_word_so', 'function_word_than', 'function_word_too', 'function_word_very', 'function_word_s', 'function_word_t', 'function_word_can', 'function_word_will', 'function_word_just', 'function_word_don', 'function_word_should', 'function_word_now', 'ngram_transition_num_nodes', 'ngram_transition_num_edges', 'ngram_transition_avg_degree', 'ngram_transition_density', 'passive_to_active_ratio']\n",
      "\n",
      "Remaining features:\n",
      "Index(['sentence_length', 'punctuation_3', 'punctuation_10', 'punctuation_13',\n",
      "       'punctuation_23', 'punctuation_29', 'punctuation_32',\n",
      "       'type_token_ratio', 'gender_prediction', 'double_spaces'],\n",
      "      dtype='object')\n"
     ]
    }
   ],
   "source": [
    "import pandas as pd\n",
    "\n",
    "# Load your dataset (replace 'dataset_without_duplicates.csv' with your file path)\n",
    "data = pd.read_csv('dataset_without_duplicates.csv')\n",
    "\n",
    "# Separate features and target variable\n",
    "X = data.drop('Label', axis=1)  # Features\n",
    "y = data['Label']  # Target variable\n",
    "\n",
    "# Calculate the variance of each feature\n",
    "variance = X.var()\n",
    "\n",
    "# Set a threshold for variance (adjust as needed)\n",
    "threshold = 0.005\n",
    "\n",
    "# Identify features with variance below the threshold\n",
    "low_variance_features = variance[variance < threshold].index.tolist()\n",
    "\n",
    "# Print the low variance features\n",
    "print(\"Features with low variance:\")\n",
    "print(low_variance_features)\n",
    "\n",
    "# Drop features with low variance from the dataset\n",
    "X_filtered = X.drop(columns=low_variance_features)\n",
    "\n",
    "# Print the remaining features\n",
    "print(\"\\nRemaining features:\")\n",
    "print(X_filtered.columns)\n"
   ]
  },
  {
   "cell_type": "code",
   "execution_count": 4,
   "metadata": {},
   "outputs": [
    {
     "name": "stdout",
     "output_type": "stream",
     "text": [
      "Number of instances with label 1: 422\n",
      "Number of instances with label 0: 459\n"
     ]
    }
   ],
   "source": [
    "import pandas as pd\n",
    "\n",
    "# Load your dataset (replace 'dataset_without_duplicates.csv' with your file path)\n",
    "data = pd.read_csv('dataset_without_duplicates.csv')\n",
    "\n",
    "# Calculate the number of instances with label 1 and label 0\n",
    "label_counts = data['Label'].value_counts()\n",
    "\n",
    "# Print the counts\n",
    "print(\"Number of instances with label 1:\", label_counts[1])\n",
    "print(\"Number of instances with label 0:\", label_counts[0])\n"
   ]
  },
  {
   "cell_type": "code",
   "execution_count": 5,
   "metadata": {},
   "outputs": [
    {
     "name": "stdout",
     "output_type": "stream",
     "text": [
      "New number of instances with label 1: 422\n",
      "New number of instances with label 0: 422\n"
     ]
    }
   ],
   "source": [
    "import pandas as pd\n",
    "\n",
    "# Load your dataset (replace 'dataset_without_duplicates.csv' with your file path)\n",
    "data = pd.read_csv('dataset_without_duplicates.csv')\n",
    "\n",
    "# Separate instances with label 1 and label 0\n",
    "label_1_data = data[data['Label'] == 1]\n",
    "label_0_data = data[data['Label'] == 0]\n",
    "\n",
    "# Undersample the majority class to match the number of instances in the minority class\n",
    "num_instances_to_keep = min(len(label_1_data), len(label_0_data))\n",
    "balanced_data = pd.concat([label_1_data.sample(n=num_instances_to_keep, random_state=42),\n",
    "                           label_0_data.sample(n=num_instances_to_keep, random_state=42)])\n",
    "\n",
    "# Shuffle the balanced dataset\n",
    "balanced_data = balanced_data.sample(frac=1, random_state=42).reset_index(drop=True)\n",
    "\n",
    "# Print the new counts\n",
    "print(\"New number of instances with label 1:\", len(balanced_data[balanced_data['Label'] == 1]))\n",
    "print(\"New number of instances with label 0:\", len(balanced_data[balanced_data['Label'] == 0]))\n"
   ]
  },
  {
   "cell_type": "code",
   "execution_count": 6,
   "metadata": {},
   "outputs": [],
   "source": [
    "import pickle\n",
    "from sklearn.feature_selection import VarianceThreshold\n",
    "from sklearn.model_selection import train_test_split\n",
    "from sklearn.ensemble import RandomForestClassifier\n",
    "from sklearn.metrics import accuracy_score, classification_report\n",
    "\n",
    "# Separate features and target variable\n",
    "X = balanced_data.drop('Label', axis=1)  # Features\n",
    "y = balanced_data['Label']  # Target variable\n",
    "\n",
    "# Split the data into training and testing sets\n",
    "X_train, X_test, y_train, y_test = train_test_split(X, y, test_size=0.2, random_state=42)\n",
    "\n",
    "# Calculate the variance of each feature\n",
    "variance = X.var()\n",
    "\n",
    "# Set the threshold for variance\n",
    "threshold = 0.005  # Adjust as needed\n",
    "\n",
    "# Initialize the VarianceThreshold selector\n",
    "selector = VarianceThreshold(threshold)\n",
    "\n",
    "# Fit the selector to the features\n",
    "selector.fit(X_train)\n",
    "\n",
    "# Get the indices of features with high variance\n",
    "high_variance_indices = selector.get_support(indices=True)\n",
    "\n",
    "# Filter the features based on high variance\n",
    "X_train_filtered = X_train.iloc[:, high_variance_indices]\n",
    "X_test_filtered = X_test.iloc[:, high_variance_indices]\n",
    "\n",
    "# Train the RandomForestClassifier on the filtered features\n",
    "clf_filtered = RandomForestClassifier(n_estimators=110, random_state=42)\n",
    "clf_filtered.fit(X_train_filtered, y_train)\n",
    "\n",
    "# Make predictions on the filtered test set\n",
    "y_pred_proba_filtered = clf_filtered.predict_proba(X_test_filtered)\n",
    "y_pred_filtered = clf_filtered.predict(X_test_filtered)\n",
    "# Generate classification report\n",
    "report = classification_report(y_test, y_pred_filtered)\n",
    "\n",
    "# Save the model, predictions, and related information to a pickle file\n",
    "model_info = {\n",
    "    'model': clf_filtered,\n",
    "    'X_test_filtered': X_test_filtered,\n",
    "    'y_test': y_test,\n",
    "    'y_pred_filtered': y_pred_filtered,\n",
    "    'y_pred_proba_filtered': y_pred_proba_filtered\n",
    "}\n",
    "\n",
    "with open('random_forest_model.pickle', 'wb') as f:\n",
    "    pickle.dump(model_info, f)\n"
   ]
  },
  {
   "cell_type": "code",
   "execution_count": 7,
   "metadata": {},
   "outputs": [
    {
     "name": "stdout",
     "output_type": "stream",
     "text": [
      "              precision    recall  f1-score   support\n",
      "\n",
      "           0       0.71      0.72      0.71        88\n",
      "           1       0.69      0.68      0.68        81\n",
      "\n",
      "    accuracy                           0.70       169\n",
      "   macro avg       0.70      0.70      0.70       169\n",
      "weighted avg       0.70      0.70      0.70       169\n",
      "\n"
     ]
    }
   ],
   "source": [
    "print(report)"
   ]
  },
  {
   "cell_type": "code",
   "execution_count": 8,
   "metadata": {},
   "outputs": [
    {
     "name": "stdout",
     "output_type": "stream",
     "text": [
      "Confusion Matrix:\n",
      "[[63 25]\n",
      " [26 55]]\n"
     ]
    },
    {
     "data": {
      "image/png": "[encoded data removed]",
      "text/plain": [
       "<Figure size 800x600 with 1 Axes>"
      ]
     },
     "metadata": {},
     "output_type": "display_data"
    }
   ],
   "source": [
    "from sklearn.metrics import confusion_matrix\n",
    "import seaborn as sns\n",
    "import matplotlib.pyplot as plt\n",
    "\n",
    "# Generate confusion matrix\n",
    "conf_matrix = confusion_matrix(y_test, y_pred_filtered)\n",
    "\n",
    "# Print confusion matrix\n",
    "print(\"Confusion Matrix:\")\n",
    "print(conf_matrix)\n",
    "\n",
    "# Plot confusion matrix\n",
    "plt.figure(figsize=(8, 6))\n",
    "sns.heatmap(conf_matrix, annot=True, fmt='d', cmap='Blues', cbar=False)\n",
    "plt.title('Confusion Matrix')\n",
    "plt.xlabel('Predicted Label')\n",
    "plt.ylabel('True Label')\n",
    "plt.show()\n"
   ]
  }
 ],
 "metadata": {
  "kernelspec": {
   "display_name": "base",
   "language": "python",
   "name": "python3"
  },
  "language_info": {
   "codemirror_mode": {
    "name": "ipython",
    "version": 3
   },
   "file_extension": ".py",
   "mimetype": "text/x-python",
   "name": "python",
   "nbconvert_exporter": "python",
   "pygments_lexer": "ipython3",
   "version": "3.11.5"
  }
 },
 "nbformat": 4,
 "nbformat_minor": 2
}
