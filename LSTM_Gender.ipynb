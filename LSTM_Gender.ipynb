{
 "cells": [
  {
   "cell_type": "code",
   "execution_count": 23,
   "metadata": {},
   "outputs": [],
   "source": [
    "import pandas as pd\n",
    "import numpy as np\n",
    "from keras.preprocessing.sequence import pad_sequences\n",
    "from keras.models import load_model\n",
    "import pickle"
   ]
  },
  {
   "cell_type": "code",
   "execution_count": 24,
   "metadata": {},
   "outputs": [],
   "source": [
    "# Load tokenizer\n",
    "with open(\"lstm_tokenizer.pickle\", \"rb\") as handle:\n",
    "    tokenizer = pickle.load(handle)"
   ]
  },
  {
   "cell_type": "code",
   "execution_count": 25,
   "metadata": {},
   "outputs": [],
   "source": [
    "# Load label encoder\n",
    "with open(\"lstm_label_encoder.pickle\", \"rb\") as handle:\n",
    "    label_encoder = pickle.load(handle)"
   ]
  },
  {
   "cell_type": "code",
   "execution_count": 26,
   "metadata": {},
   "outputs": [],
   "source": [
    "# Load max length\n",
    "with open(\"max_length.pickle\", \"rb\") as handle:\n",
    "    max_length = pickle.load(handle)"
   ]
  },
  {
   "cell_type": "code",
   "execution_count": 27,
   "metadata": {},
   "outputs": [],
   "source": [
    "# Load model\n",
    "model = load_model(\"lstm_trained_model.h5\")"
   ]
  },
  {
   "cell_type": "code",
   "execution_count": 38,
   "metadata": {},
   "outputs": [],
   "source": [
    "# Example\n",
    "new_data = ['''But when the cold dries out my skin and crackles the peach-silk of my lips, I yearn to be somewhere that no longer exists. The motherland which cradled me in its arms no longer recognizes me as her own, and nor do I identify with her selfish whims anymore.\n",
    "\n",
    "We’ve drifted apart, oceans between enlarging day after day as the ice melts and our contempt and disappointment for each other grows.''']"
   ]
  },
  {
   "cell_type": "code",
   "execution_count": 39,
   "metadata": {},
   "outputs": [
    {
     "name": "stdout",
     "output_type": "stream",
     "text": [
      "1/1 [==============================] - 0s 21ms/step\n",
      "Predicted Gender: ABOUT:female\n"
     ]
    }
   ],
   "source": [
    "# Define new_data_sequence\n",
    "new_data_sequence = tokenizer.texts_to_sequences(new_data)\n",
    "\n",
    "# Pad new_data_sequence\n",
    "new_data_padded = pad_sequences(new_data_sequence, maxlen=max_length)\n",
    "\n",
    "# Make predictions\n",
    "prediction = model.predict(new_data_padded)\n",
    "predicted_class = (prediction > 0.5).astype('int')[0][0]\n",
    "predicted_gender = label_encoder.classes_[predicted_class]\n",
    "print(f'Predicted Gender: {predicted_gender}')"
   ]
  }
 ],
 "metadata": {
  "kernelspec": {
   "display_name": "Python 3",
   "language": "python",
   "name": "python3"
  },
  "language_info": {
   "codemirror_mode": {
    "name": "ipython",
    "version": 3
   },
   "file_extension": ".py",
   "mimetype": "text/x-python",
   "name": "python",
   "nbconvert_exporter": "python",
   "pygments_lexer": "ipython3",
   "version": "3.11.4"
  }
 },
 "nbformat": 4,
 "nbformat_minor": 2
}
