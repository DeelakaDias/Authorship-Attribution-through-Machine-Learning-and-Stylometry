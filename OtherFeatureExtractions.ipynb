{
 "cells": [
  {
   "cell_type": "markdown",
   "metadata": {},
   "source": [
    "Double spaces after the full stop"
   ]
  },
  {
   "cell_type": "code",
   "execution_count": null,
   "metadata": {},
   "outputs": [],
   "source": [
    "def check_double_spaces_after_full_stop(paragraph):\n",
    "\n",
    "    double_spaces_count = paragraph.count(\".  \")\n",
    "    \n",
    "    if double_spaces_count >= 3:\n",
    "        return 1\n",
    "    else:\n",
    "        return 0\n",
    "\n",
    "sample_text = \"The iPhone is a line of smartphones produced by Apple Inc that use Apple's own iOS mobile operating system.  The first-generation iPhone was announced by then–Apple CEO Steve Jobs on January 9, 2007.  Since then, Apple has annually released new iPhone models and iOS updates.  As of November 1, 2018, more than 2.2 billion iPhones had been sold.  As of 2022, the iPhone accounts for 15.6% of global smartphone market share\"\n",
    "result = check_double_spaces_after_full_stop(sample_text)\n",
    "\n",
    "print(result)"
   ]
  },
  {
   "cell_type": "markdown",
   "metadata": {},
   "source": [
    "Active voice or Passive voice"
   ]
  },
  {
   "cell_type": "code",
   "execution_count": null,
   "metadata": {},
   "outputs": [],
   "source": [
    "import spacy\n",
    "\n",
    "def is_passive(sentence):\n",
    "    # Use SpaCy to parse the sentence and check for passive voice indicators\n",
    "    doc = nlp(sentence)\n",
    "    for token in doc:\n",
    "        if token.dep_ == 'auxpass':  # auxiliary passive\n",
    "            return True\n",
    "        if token.dep_ == 'nsubjpass':  # nominal subject passive\n",
    "            return True\n",
    "    return False\n",
    "\n",
    "def identify_voice(paragraph):\n",
    "    active_count = 0\n",
    "    passive_count = 0\n",
    "    sentences = paragraph.split('.')\n",
    "    for sentence in sentences:\n",
    "        if is_passive(sentence):\n",
    "            passive_count += 1\n",
    "        else:\n",
    "            active_count += 1\n",
    "    \n",
    "    if passive_count > active_count:\n",
    "        return \"Passive Voice Dominant\"\n",
    "    elif passive_count < active_count:\n",
    "        return \"Active Voice Dominant\"\n",
    "    else:\n",
    "        return \"Balanced\"\n",
    "\n",
    "# English language model for SpaCy\n",
    "nlp = spacy.load(\"en_core_web_sm\")\n",
    "\n",
    "# Example \n",
    "paragraph = '''In the laboratory, experiments were conducted by the researchers to test the hypothesis, with the results being carefully observed and recorded. Various variables were manipulated throughout the experiment to assess their impact, and data from multiple trials were collected and analyzed using statistical methods. Conclusions were drawn based on the findings, and recommendations for further research were made by the team. The significance of the study was emphasized, and the paper was submitted for publication in a reputable journal. Ultimately, the scientific community acknowledged the experiment's success and its implications, highlighting the importance of collaborative efforts in advancing knowledge.'''\n",
    "result = identify_voice(paragraph)\n",
    "print(\"Voice in paragraph:\", result)"
   ]
  }
 ],
 "metadata": {
  "language_info": {
   "name": "python"
  }
 },
 "nbformat": 4,
 "nbformat_minor": 2
}
